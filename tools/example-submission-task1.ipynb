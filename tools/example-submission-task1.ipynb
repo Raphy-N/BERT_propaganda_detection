{
 "cells": [
  {
   "cell_type": "markdown",
   "metadata": {},
   "source": [
    "Task 1 - Example of submission\n",
    "We train a simple system that computes n-grams (n=1,2) as features, learn a model on the training set and makes predictions on the development set. \n",
    "It is assumed here that the file \"task1.train.txt\" and \"task1.dev.txt\" are in the current folder."
   ]
  },
  {
   "cell_type": "code",
   "execution_count": 1,
   "metadata": {},
   "outputs": [],
   "source": [
    "train_set_file_name = \"task1.train.txt\" # if train and dev sets are not in current folder, change \n",
    "dev_set_file_name = \"task1.dev.txt\"     # these variables accordingly\n",
    "\n",
    "from sklearn.linear_model import LogisticRegression\n",
    "from sklearn.feature_extraction.text import TfidfVectorizer\n",
    "vectorizer = TfidfVectorizer(analyzer=\"word\", ngram_range=(1, 2))"
   ]
  },
  {
   "cell_type": "markdown",
   "metadata": {},
   "source": [
    "Loading the training set"
   ]
  },
  {
   "cell_type": "code",
   "execution_count": 2,
   "metadata": {},
   "outputs": [
    {
     "name": "stdout",
     "output_type": "stream",
     "text": [
      "Number of documents in the training set: 35993\n"
     ]
    }
   ],
   "source": [
    "articles_content, gold_labels = ([], [])\n",
    "with open(train_set_file_name, \"r\") as f:\n",
    "        for line in f.readlines():\n",
    "            article_content, article_id, gold_label = line.rstrip().split(\"\\t\")\n",
    "            articles_content.append(article_content)\n",
    "            gold_labels.append(gold_label)\n",
    "print(\"Number of documents in the training set: %d\"%(len(articles_content)))"
   ]
  },
  {
   "cell_type": "markdown",
   "metadata": {},
   "source": [
    "Loading the Development set"
   ]
  },
  {
   "cell_type": "code",
   "execution_count": 3,
   "metadata": {},
   "outputs": [],
   "source": [
    "dev_articles_content, dev_articles_id = ([], [])\n",
    "with open(dev_set_file_name) as f:\n",
    "    for line in f.readlines():\n",
    "            article_content, article_id, gold_label = line.rstrip().split(\"\\t\")\n",
    "            dev_articles_content.append(article_content)\n",
    "            dev_articles_id.append(article_id)"
   ]
  },
  {
   "cell_type": "markdown",
   "metadata": {},
   "source": [
    "computing n-gram representation for training and dev sets"
   ]
  },
  {
   "cell_type": "code",
   "execution_count": 4,
   "metadata": {},
   "outputs": [
    {
     "name": "stdout",
     "output_type": "stream",
     "text": [
      "Checking that the number of features in train and dev correspond: 4346292 - 4346292\n"
     ]
    }
   ],
   "source": [
    "train = vectorizer.fit_transform(articles_content)\n",
    "dev = vectorizer.transform(dev_articles_content)\n",
    "print(\"Checking that the number of features in train and dev correspond: %s - %s\" % (train.shape[1], dev.shape[1]))"
   ]
  },
  {
   "cell_type": "code",
   "execution_count": 5,
   "metadata": {},
   "outputs": [],
   "source": [
    "model = LogisticRegression(penalty='l2', class_weight='balanced', solver=\"lbfgs\")\n",
    "model.fit(train, gold_labels)\n",
    "predictions = model.predict(dev)"
   ]
  },
  {
   "cell_type": "markdown",
   "metadata": {},
   "source": [
    "save predictions in the output format for the competition"
   ]
  },
  {
   "cell_type": "code",
   "execution_count": 6,
   "metadata": {},
   "outputs": [],
   "source": [
    "with open(\"example-submission-task1-predictions.txt\", \"w\") as fout:\n",
    "    for article_id, prediction in zip(dev_articles_id, predictions):\n",
    "        fout.write(\"%s\\t%s\\n\" % (article_id, prediction))"
   ]
  },
  {
   "cell_type": "markdown",
   "metadata": {},
   "source": [
    "The outcome of the model is:\n",
    "Precision=0.660131\n",
    "Recall=0.878261\n",
    "F1=0.753731"
   ]
  }
 ],
 "metadata": {
  "kernelspec": {
   "display_name": "Python 3",
   "language": "python",
   "name": "python3"
  },
  "language_info": {
   "codemirror_mode": {
    "name": "ipython",
    "version": 3
   },
   "file_extension": ".py",
   "mimetype": "text/x-python",
   "name": "python",
   "nbconvert_exporter": "python",
   "pygments_lexer": "ipython3",
   "version": "3.7.0"
  }
 },
 "nbformat": 4,
 "nbformat_minor": 2
}
