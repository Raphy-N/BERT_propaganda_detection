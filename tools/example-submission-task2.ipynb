{
 "cells": [
  {
   "cell_type": "markdown",
   "metadata": {},
   "source": [
    "Task 2 - Example of submission \n",
    "We train a simple system that computes one feature only, i.e. the length of the article, learn a model on the training set and makes predictions on the development set.\n",
    "It is assumed that the folders \"train\" and \"dev\" are in the same folder as this notebook."
   ]
  },
  {
   "cell_type": "code",
   "execution_count": 1,
   "metadata": {},
   "outputs": [],
   "source": [
    "train_folder = \"train\" # if train and dev folders are not in the same folder as this notebook, change\n",
    "dev_folder = \"dev\"     # these variables accordingly\n",
    "\n",
    "from sklearn.linear_model import LogisticRegression\n",
    "import glob\n",
    "import os.path\n",
    "import numpy as np"
   ]
  },
  {
   "cell_type": "markdown",
   "metadata": {},
   "source": [
    "Loading training data"
   ]
  },
  {
   "cell_type": "code",
   "execution_count": 2,
   "metadata": {},
   "outputs": [
    {
     "name": "stdout",
     "output_type": "stream",
     "text": [
      "Loaded 15171 sentences from 293 articles\n"
     ]
    }
   ],
   "source": [
    "# loading articles' content from *.txt files in the train folder\n",
    "file_list = glob.glob(os.path.join(train_folder, \"*.txt\"))\n",
    "sentence_list = []\n",
    "for i, filename in enumerate(file_list):\n",
    "    with open(filename, \"r\") as f:\n",
    "        for row in f.readlines():\n",
    "            sentence_list.append(row.rstrip())\n",
    "\n",
    "# loading articles ids and sentence ids from files *.task2.labels in the train folder \n",
    "gold_file_list = glob.glob(os.path.join(train_folder, \"*.task2.labels\"))\n",
    "articles_id, sentence_id_list, gold_labels = ([], [], [])\n",
    "for filename in gold_file_list:\n",
    "    with open(filename, \"r\") as f:\n",
    "        for row in f.readlines():\n",
    "            article_id, sentence_id, gold_label = row.rstrip().split(\"\\t\")\n",
    "            articles_id.append(article_id)\n",
    "            sentence_id_list.append(sentence_id)\n",
    "            gold_labels.append(gold_label)\n",
    "print(\"Loaded %d sentences from %d articles\" % (len(sentence_list), i+1))\n"
   ]
  },
  {
   "cell_type": "markdown",
   "metadata": {},
   "source": [
    "We create one feature per sentence, which is the length of the sentence, and we train a model using only that feature"
   ]
  },
  {
   "cell_type": "code",
   "execution_count": 3,
   "metadata": {},
   "outputs": [
    {
     "data": {
      "text/plain": [
       "LogisticRegression(C=1.0, class_weight='balanced', dual=False,\n",
       "          fit_intercept=True, intercept_scaling=1, max_iter=100,\n",
       "          multi_class='warn', n_jobs=None, penalty='l2', random_state=None,\n",
       "          solver='lbfgs', tol=0.0001, verbose=0, warm_start=False)"
      ]
     },
     "execution_count": 3,
     "metadata": {},
     "output_type": "execute_result"
    }
   ],
   "source": [
    "train = np.array([ len(sentence) for sentence in sentence_list ]).reshape(-1, 1)\n",
    "model = LogisticRegression(penalty='l2', class_weight='balanced', solver=\"lbfgs\")\n",
    "model.fit(train, gold_labels)"
   ]
  },
  {
   "cell_type": "markdown",
   "metadata": {},
   "source": [
    "We load now the dev set, compute the length feature and make predictions based on 'model'"
   ]
  },
  {
   "cell_type": "code",
   "execution_count": 4,
   "metadata": {},
   "outputs": [],
   "source": [
    "file_list = glob.glob(os.path.join(dev_folder, \"*.txt\"))\n",
    "dev_sentence_list = []\n",
    "for i, filename in enumerate(file_list):\n",
    "    with open(filename, \"r\") as f:\n",
    "        for row in f.readlines():\n",
    "            dev_sentence_list.append(len(row.rstrip()))\n",
    "\n",
    "gold_file_list = glob.glob(os.path.join(dev_folder, \"*.task2.labels\"))\n",
    "dev_articles_id, dev_sentence_id_list = ([], [])\n",
    "for filename in gold_file_list:\n",
    "    with open(filename, \"r\") as f:\n",
    "        for row in f.readlines():\n",
    "            article_id, sentence_id = row.rstrip().split(\"\\t\")[0:2]\n",
    "            dev_articles_id.append(article_id)\n",
    "            dev_sentence_id_list.append(sentence_id)\n",
    "\n",
    "dev = np.array(dev_sentence_list).reshape(-1, 1)\n",
    "predictions = model.predict(dev)\n"
   ]
  },
  {
   "cell_type": "markdown",
   "metadata": {},
   "source": [
    "save the prediction in the output format for the competition"
   ]
  },
  {
   "cell_type": "code",
   "execution_count": 5,
   "metadata": {},
   "outputs": [],
   "source": [
    "with open(\"example-submission-task2-predictions.txt\", \"w\") as fout:\n",
    "    for article_id, sentence_id, prediction in zip(dev_articles_id, dev_sentence_id_list, predictions):\n",
    "        fout.write(\"%s\\t%s\\t%s\\n\" % (article_id, sentence_id, prediction))"
   ]
  },
  {
   "cell_type": "markdown",
   "metadata": {},
   "source": [
    "Running the scorer on file \"example-submission-task2-predictions.txt\" gives the following results:\n",
    "Precision=0.307815\n",
    "Recall=0.582202\n",
    "F1=0.402713"
   ]
  }
 ],
 "metadata": {
  "kernelspec": {
   "display_name": "Python 3",
   "language": "python",
   "name": "python3"
  },
  "language_info": {
   "codemirror_mode": {
    "name": "ipython",
    "version": 3
   },
   "file_extension": ".py",
   "mimetype": "text/x-python",
   "name": "python",
   "nbconvert_exporter": "python",
   "pygments_lexer": "ipython3",
   "version": "3.7.0"
  }
 },
 "nbformat": 4,
 "nbformat_minor": 2
}
