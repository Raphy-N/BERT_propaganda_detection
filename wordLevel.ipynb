{
 "cells": [
  {
   "cell_type": "code",
   "execution_count": 1,
   "metadata": {
    "ExecuteTime": {
     "end_time": "2019-04-03T14:40:19.376519Z",
     "start_time": "2019-04-03T14:40:11.631083Z"
    }
   },
   "outputs": [],
   "source": [
    "from scipy import stats\n",
    "import pickle\n",
    "from collections import OrderedDict\n",
    "from utils import *\n",
    "import numpy as np"
   ]
  },
  {
   "cell_type": "markdown",
   "metadata": {},
   "source": [
    "### Gold labels"
   ]
  },
  {
   "cell_type": "code",
   "execution_count": 2,
   "metadata": {},
   "outputs": [
    {
     "name": "stdout",
     "output_type": "stream",
     "text": [
      "{'O': 0, 'Propaganda': 1}\n"
     ]
    }
   ],
   "source": [
    "prop_tech_e, prop_tech, _, _, p2id = settings(\"tools/data/propaganda-techniques-names.txt\", \"Propaganda\", False) \n",
    "ids, texts, labels = read_data(\"datasets-v5/tasks-2-3/test\", binary=\"Propaganda\")\n",
    "\n",
    "flat_list_i, flat_list, flat_list_l, _ = corpus2list(p2id, ids, texts, labels, True, False)"
   ]
  },
  {
   "cell_type": "code",
   "execution_count": 3,
   "metadata": {
    "ExecuteTime": {
     "end_time": "2019-04-03T13:25:49.700087Z",
     "start_time": "2019-04-03T13:25:49.682828Z"
    }
   },
   "outputs": [
    {
     "name": "stdout",
     "output_type": "stream",
     "text": [
      "{'788626289': 3, '730093263': 40, '999000858': 132, '111111114': 30, '730019938': 30, '776385494': 13, '999001323': 17, '700387229': 75, '698719689': 38, '790666929': 11, '699142854': 160, '738442776': 74, '761722669': 25, '999001211': 21, '788271400': 23, '725731328': 234, '706501640': 57, '707566605': 89, '705035735': 70, '763114850': 92, '787730392': 170, '702111021': 78, '699478811': 256, '706088110': 72, '701447437': 120, '708487008': 68, '738361208': 75, '725276027': 103, '999001256': 101, '777785889': 48, '707772906': 217, '708561738': 154, '738447109': 128, '730036755': 0, '761955563': 75, '111111123': 2, '778730964': 140, '763412406': 179, '773650987': 138, '777720051': 35, '999001259': 107, '790499380': 8, '787085939': 71, '777869943': 192, '999000878': 9, '788273361': 21, '711716996': 134, '789512681': 52, '730061195': 0, '761568202': 5, '703056647': 111, '794141509': 213, '707451080': 256, '763280007': 193, '111111115': 42, '727569885': 105, '708071969': 91, '783774960': 255, '779309765': 288, '111111117': 14, '706777811': 181, '778358096': 171, '778507244': 38, '999000874': 44, '999001299': 50, '772836731': 626, '781672902': 451, '999001419': 41, '738542398': 18, '698503276': 211, '761575506': 4, '786004130': 29, '798244842': 147, '730081389': 0, '730246508': 48, '784143418': 110, '999001280': 116, '701299732': 59, '789753303': 4, '718595845': 168, '787966255': 11, '789454337': 84, '776126299': 59, '111111111': 86, '111111121': 0, '785331076': 14, '740235127': 209, '794344513': 58, '738028498': 147, '784382409': 44, '111111135': 159, '999000851': 1, '782149032': 148, '788847916': 49, '730269378': 2, '111111133': 17, '778094905': 142, '999001290': 36, '725824328': 108, '782448403': 42, '738781754': 35}\n"
     ]
    }
   ],
   "source": [
    "# Propagandist Tokens\n",
    "dict_prop = dict()\n",
    "# All Tokens\n",
    "dict_total_count = dict()\n",
    "dict_total_sent = dict()\n",
    "dict_weight = dict()\n",
    "for doc_id, sentence in zip(flat_list_i, flat_list_l):\n",
    "    if doc_id not in dict_prop:\n",
    "        dict_prop[doc_id] = 0\n",
    "        dict_total_count[doc_id] = 0  \n",
    "        dict_weight[doc_id] = 0\n",
    "        dict_total_sent[doc_id] = 0\n",
    "    isProp = False\n",
    "    for token in sentence:\n",
    "        if token == 1:\n",
    "            isProp = True\n",
    "            dict_prop[doc_id] += 1\n",
    "        dict_total_count[doc_id] += 1\n",
    "    if isProp:\n",
    "        dict_weight[doc_id] += 1\n",
    "    dict_total_sent[doc_id] += 1\n",
    "print (dict_prop)"
   ]
  },
  {
   "cell_type": "code",
   "execution_count": 4,
   "metadata": {
    "ExecuteTime": {
     "end_time": "2019-04-03T13:29:59.526983Z",
     "start_time": "2019-04-03T13:29:59.511181Z"
    }
   },
   "outputs": [],
   "source": [
    "dict_measure = dict()\n",
    "# Divide number of propagandist tokens by total number of tokens\n",
    "for x in dict_prop:\n",
    "    weight = dict_weight[x]/dict_total_sent[x]\n",
    "    dict_measure[x] = dict_prop[x]/dict_total_count[x] * weight\n",
    "\n",
    "# Sort dict by the calculated metric\n",
    "sorted_gold = sorted(dict_measure.items(), key=lambda x: x[1])\n"
   ]
  },
  {
   "cell_type": "code",
   "execution_count": 5,
   "metadata": {},
   "outputs": [
    {
     "data": {
      "text/plain": [
       "[('730036755', 0.0),\n",
       " ('730061195', 0.0),\n",
       " ('730081389', 0.0),\n",
       " ('111111121', 0.0),\n",
       " ('999000851', 4.489942528735632e-05),\n",
       " ('111111123', 6.582411795681939e-05),\n",
       " ('788626289', 0.00016233766233766234),\n",
       " ('790499380', 0.0003322995126273815),\n",
       " ('789753303', 0.0003510311540149188),\n",
       " ('761575506', 0.0008958566629339305),\n",
       " ('730269378', 0.0010887316276537834),\n",
       " ('776385494', 0.001214347988541537),\n",
       " ('788273361', 0.0013833080824715103),\n",
       " ('761568202', 0.0014952153110047847),\n",
       " ('787966255', 0.0016156670746634027),\n",
       " ('790666929', 0.0019475920679886685),\n",
       " ('999001323', 0.0023587523587523585),\n",
       " ('999000878', 0.0026800071466857246),\n",
       " ('785331076', 0.0034353419567427356),\n",
       " ('730019938', 0.003971143027334701),\n",
       " ('784382409', 0.004086371023914558),\n",
       " ('786004130', 0.004193175245806824),\n",
       " ('788271400', 0.0042255332439234995),\n",
       " ('999001211', 0.004259462090787392),\n",
       " ('999001290', 0.004369462313387547),\n",
       " ('730246508', 0.004456824512534819),\n",
       " ('789512681', 0.004859147032805472),\n",
       " ('761722669', 0.005145091582630171),\n",
       " ('794344513', 0.005952380952380952),\n",
       " ('111111133', 0.0063335679099225895),\n",
       " ('776126299', 0.006347584018074477),\n",
       " ('738542398', 0.006912442396313364),\n",
       " ('999000874', 0.006931316950220542),\n",
       " ('111111114', 0.008230452674897118),\n",
       " ('111111117', 0.009308510638297872),\n",
       " ('999001419', 0.009560229445506692),\n",
       " ('698719689', 0.010079575596816978),\n",
       " ('999001299', 0.010251503553854565),\n",
       " ('787085939', 0.013349785533815148),\n",
       " ('777785889', 0.013534088986635088),\n",
       " ('738781754', 0.015217391304347828),\n",
       " ('788847916', 0.015364880273660207),\n",
       " ('111111115', 0.015541165587419057),\n",
       " ('999001259', 0.015869484612532445),\n",
       " ('778507244', 0.01588628762541806),\n",
       " ('798244842', 0.016087516087516088),\n",
       " ('794141509', 0.01876243574863207),\n",
       " ('782448403', 0.02159827213822894),\n",
       " ('761955563', 0.02288329519450801),\n",
       " ('730093263', 0.023432923257176334),\n",
       " ('763114850', 0.024430468204053108),\n",
       " ('738447109', 0.025268976409041556),\n",
       " ('698503276', 0.025499516596841767),\n",
       " ('718595845', 0.025811209439528023),\n",
       " ('725824328', 0.026509572901325478),\n",
       " ('702111021', 0.02654867256637168),\n",
       " ('725276027', 0.02880679362335054),\n",
       " ('789454337', 0.029045643153526972),\n",
       " ('777720051', 0.03024193548387097),\n",
       " ('778094905', 0.0308561495002173),\n",
       " ('699142854', 0.03160944771270524),\n",
       " ('111111135', 0.03261251758087201),\n",
       " ('727569885', 0.03341962315396367),\n",
       " ('999001280', 0.03499934409025318),\n",
       " ('738361208', 0.0355297157622739),\n",
       " ('999001256', 0.03685010641532381),\n",
       " ('705035735', 0.03981797497155859),\n",
       " ('999000858', 0.04205160879260911),\n",
       " ('706088110', 0.04643527204502814),\n",
       " ('781672902', 0.046567225822849154),\n",
       " ('784143418', 0.04728409534974599),\n",
       " ('777869943', 0.04786324786324787),\n",
       " ('699478811', 0.04857142857142857),\n",
       " ('701299732', 0.049579831932773114),\n",
       " ('708487008', 0.051051051051051045),\n",
       " ('711716996', 0.05240644325487033),\n",
       " ('763412406', 0.05359103156914274),\n",
       " ('700387229', 0.05434782608695652),\n",
       " ('778358096', 0.05613636363636363),\n",
       " ('706501640', 0.05921308920919361),\n",
       " ('707451080', 0.06634272756721736),\n",
       " ('738442776', 0.07272216762600028),\n",
       " ('783774960', 0.07778836987607245),\n",
       " ('111111111', 0.08140635564570656),\n",
       " ('773650987', 0.0844811753902663),\n",
       " ('707772906', 0.08580003953918873),\n",
       " ('707566605', 0.0893574297188755),\n",
       " ('787730392', 0.09885636751308392),\n",
       " ('772836731', 0.10634954342747929),\n",
       " ('763280007', 0.10768638768638768),\n",
       " ('725731328', 0.10812356979405033),\n",
       " ('708071969', 0.10919999999999999),\n",
       " ('708561738', 0.11039426523297491),\n",
       " ('706777811', 0.11707632600258733),\n",
       " ('703056647', 0.11708860759493671),\n",
       " ('740235127', 0.12110676517456179),\n",
       " ('778730964', 0.14403292181069957),\n",
       " ('738028498', 0.17349785407725324),\n",
       " ('779309765', 0.17947483216723792),\n",
       " ('782149032', 0.1979933110367893),\n",
       " ('701447437', 0.21634615384615385)]"
      ]
     },
     "execution_count": 5,
     "metadata": {},
     "output_type": "execute_result"
    }
   ],
   "source": [
    "sorted_gold"
   ]
  },
  {
   "cell_type": "markdown",
   "metadata": {},
   "source": [
    "### Predicted labels"
   ]
  },
  {
   "cell_type": "code",
   "execution_count": 6,
   "metadata": {},
   "outputs": [],
   "source": [
    "gold_dict_measure = dict_measure"
   ]
  },
  {
   "cell_type": "code",
   "execution_count": 7,
   "metadata": {
    "ExecuteTime": {
     "end_time": "2019-04-03T13:31:29.884010Z",
     "start_time": "2019-04-03T13:31:29.452156Z"
    },
    "code_folding": []
   },
   "outputs": [],
   "source": [
    "dict_prop = dict()\n",
    "dict_total_count = dict()\n",
    "dict_measure = dict()\n",
    "dict_total_sent = dict()\n",
    "dict_weight = dict()\n",
    "with open ('outfile_test', 'rb') as fp:\n",
    "    itemlist = pickle.load(fp)\n",
    "clearList = []\n",
    "for j in itemlist:\n",
    "    tlist = []\n",
    "    for x in j:\n",
    "        if x not in [2,3]:\n",
    "            tlist.append(x)\n",
    "    clearList.append(tlist)\n",
    "    \n",
    "for doc_id, sentence in zip(flat_list_i, clearList):\n",
    "    if doc_id not in dict_prop:\n",
    "        dict_prop[doc_id] = 0\n",
    "        dict_total_count[doc_id] = 0\n",
    "        dict_total_sent[doc_id] = 0\n",
    "        dict_weight[doc_id] = 0\n",
    "\n",
    "    isProp = False\n",
    "    for token in sentence:\n",
    "        if token == 1:\n",
    "            isProp = True\n",
    "            dict_prop[doc_id] += 1\n",
    "        dict_total_count[doc_id] += 1\n",
    "    if isProp:\n",
    "        dict_weight[doc_id] += 1\n",
    "    dict_total_sent[doc_id] += 1"
   ]
  },
  {
   "cell_type": "code",
   "execution_count": 8,
   "metadata": {},
   "outputs": [
    {
     "name": "stdout",
     "output_type": "stream",
     "text": [
      "101\n"
     ]
    }
   ],
   "source": [
    "dict_measure = dict()\n",
    "for x in dict_prop:\n",
    "    weight = dict_weight[x]/dict_total_sent[x]\n",
    "    dict_measure[x] = dict_prop[x]/dict_total_count[x] * weight\n",
    "\n",
    "sorted_prediction = sorted(dict_measure.items(), key=lambda x: x[1])\n",
    "print (len(sorted_prediction))"
   ]
  },
  {
   "cell_type": "code",
   "execution_count": 20,
   "metadata": {},
   "outputs": [
    {
     "name": "stdout",
     "output_type": "stream",
     "text": [
      "[('111111117', 0.0), ('786004130', 1.555306706482518e-05), ('730081389', 0.00014341029685931449), ('111111114', 0.00025310048089091365), ('778094905', 0.00034980935390212334), ('730036755', 0.0003654970760233918), ('999000851', 0.00043162983425414363), ('730061195', 0.0006142506142506142), ('111111121', 0.0006648199445983379), ('738542398', 0.0009398496240601503), ('730019938', 0.0015240998285387692), ('999000878', 0.0016145773267212547), ('111111111', 0.002833243389098759), ('730093263', 0.0037921880925293893), ('789753303', 0.004543260357213846), ('778507244', 0.00576962703482382), ('708071969', 0.0062622309197651665), ('777869943', 0.006282051282051283), ('999000874', 0.007050528789659225), ('790499380', 0.007089790430141117), ('777720051', 0.007433920704845815), ('787966255', 0.007445537273646475), ('698719689', 0.007822685788787484), ('999001259', 0.008377331925378389), ('783774960', 0.00926470588235294), ('788626289', 0.01194184839044652), ('111111115', 0.013546910755148741), ('761575506', 0.013961218836565096), ('702111021', 0.014094601051122792), ('790666929', 0.014246947082767978), ('777785889', 0.014566320900463474), ('698503276', 0.01541349669005039), ('999001323', 0.015432843019049918), ('785331076', 0.015827241633693246), ('701299732', 0.015979381443298968), ('700387229', 0.016788635385277657), ('699142854', 0.017291435402612926), ('782149032', 0.019104084321475624), ('788847916', 0.019867549668874173), ('730269378', 0.02054442732408834), ('761955563', 0.02143824281630811), ('789454337', 0.022), ('706088110', 0.023466117216117216), ('778730964', 0.02391490022517276), ('730246508', 0.02430865298840321), ('705035735', 0.026242322724734785), ('708561738', 0.026703819807268082), ('707451080', 0.027084027084027084), ('778358096', 0.027251331599157685), ('706501640', 0.02858594841824419), ('699478811', 0.029348295209322403), ('999001290', 0.030857142857142854), ('784143418', 0.03120805369127517), ('111111123', 0.03536522633744856), ('999001419', 0.03622865296294645), ('784382409', 0.038740920096852295), ('708487008', 0.03914417699975687), ('725276027', 0.03983965767405258), ('711716996', 0.04249360181563571), ('999001211', 0.04250295159386069), ('999001299', 0.04505595183561286), ('111111133', 0.045376266570547476), ('707566605', 0.045542635658914726), ('738781754', 0.0459375), ('794141509', 0.04736390278558954), ('787730392', 0.04777365491651206), ('706777811', 0.05314465408805032), ('718595845', 0.0543351929335193), ('776126299', 0.05456580420040819), ('789512681', 0.055747703745586435), ('776385494', 0.059216519890677194), ('773650987', 0.060905103668261566), ('999000858', 0.06186046511627908), ('707772906', 0.06281156530408774), ('787085939', 0.06385291187392446), ('740235127', 0.06485260770975057), ('703056647', 0.06521739130434782), ('738442776', 0.06550802139037433), ('111111135', 0.06946785794560577), ('738361208', 0.07469979296066252), ('727569885', 0.07672148738160584), ('738447109', 0.07918000835305582), ('725824328', 0.08373843500078407), ('794344513', 0.08450474898236093), ('779309765', 0.08754472271914134), ('782448403', 0.088011088011088), ('738028498', 0.0969917012448133), ('788273361', 0.09921934021657013), ('999001280', 0.10412406271301976), ('701447437', 0.11714174150722374), ('999001256', 0.11749763705103969), ('798244842', 0.12379139832452547), ('761722669', 0.12738853503184713), ('781672902', 0.1334192333167743), ('761568202', 0.13486078886310904), ('788271400', 0.14051730139942908), ('763114850', 0.14070779452543725), ('725731328', 0.19006936220605652), ('763412406', 0.2064270329361085), ('763280007', 0.2727461924132059), ('772836731', 0.27482818047798013)]\n"
     ]
    }
   ],
   "source": [
    "print(sorted_prediction)"
   ]
  },
  {
   "cell_type": "code",
   "execution_count": 9,
   "metadata": {},
   "outputs": [
    {
     "name": "stdout",
     "output_type": "stream",
     "text": [
      "999001323 ['It', 'was', 'the', 'latest', 'in', 'a', 'series', 'of', 'public', 'confrontations', 'between', 'Acosta', 'and', 'Trump', ',', 'who', 'has', 'repeatedly', 'characterized', 'CNN', '’s', 'critical', 'coverage', 'of', 'him', 'as', '“', 'fake', 'news', '”', 'since', 'the', '2016', 'presidential', 'campaign', '.'] [0, 0, 0, 0, 0, 0, 0, 0, 0, 0, 0, 0, 0, 0, 0, 0, 0, 0, 0, 0, 0, 0, 0, 0, 0, 0, 1, 1, 1, 1, 0, 0, 0, 0, 0, 0] [0, 0, 0, 0, 0, 0, 0, 0, 0, 0, 0, 0, 0, 0, 0, 0, 0, 0, 0, 0, 0, 0, 0, 0, 0, 0, 0, 1, 1, 1, 1, 1, 1, 0, 0, 0, 0] 37 36\n"
     ]
    }
   ],
   "source": [
    "id = 192\n",
    "print (flat_list_i[id], flat_list[id], flat_list_l[id], clearList[id], len(clearList[id]), len(flat_list_l[id]))"
   ]
  },
  {
   "cell_type": "code",
   "execution_count": 10,
   "metadata": {},
   "outputs": [
    {
     "name": "stdout",
     "output_type": "stream",
     "text": [
      "0.016633663366336638 0.8053159587575822\n"
     ]
    },
    {
     "name": "stderr",
     "output_type": "stream",
     "text": [
      "/usr/local/lib/python3.6/dist-packages/scipy/stats/stats.py:248: RuntimeWarning: The input array could not be properly checked for nan values. nan values will be ignored.\n",
      "  \"values. nan values will be ignored.\", RuntimeWarning)\n"
     ]
    }
   ],
   "source": [
    "#Separate the measure from the ID\n",
    "predict = [i[0] for i in sorted_prediction]\n",
    "gold = [i[0] for i in sorted_gold]\n",
    "\n",
    "tau, p_value = stats.kendalltau(gold, predict)\n",
    "print (tau, p_value)\n"
   ]
  },
  {
   "cell_type": "code",
   "execution_count": 11,
   "metadata": {},
   "outputs": [],
   "source": [
    "pred = [dict_measure[d] for d in dict_measure]"
   ]
  },
  {
   "cell_type": "code",
   "execution_count": 12,
   "metadata": {},
   "outputs": [],
   "source": [
    "gold = [gold_dict_measure[d] for d in gold_dict_measure]"
   ]
  },
  {
   "cell_type": "code",
   "execution_count": 13,
   "metadata": {},
   "outputs": [
    {
     "data": {
      "text/plain": [
       "[0.011779510728108858,\n",
       " -0.019640735164646945,\n",
       " 0.019808856323669972,\n",
       " -0.007977352194006205,\n",
       " -0.0024470431987959323,\n",
       " 0.058002171902135656,\n",
       " 0.01307409066029756,\n",
       " -0.03755919070167886,\n",
       " -0.0022568898080294938,\n",
       " 0.01229935501477931,\n",
       " -0.014318012310092314,\n",
       " -0.007214146235625954,\n",
       " 0.12224344344921696,\n",
       " 0.0382434895030733,\n",
       " 0.1362917681555056,\n",
       " 0.0819457924120062,\n",
       " -0.03062714079094942,\n",
       " -0.04381479405996078,\n",
       " -0.013575652246823805,\n",
       " 0.11627732632138414,\n",
       " -0.051082712596571864,\n",
       " -0.01245407151524889,\n",
       " -0.019223133362106168,\n",
       " -0.022969154828910925,\n",
       " -0.09920441233893011,\n",
       " -0.011906874051294175,\n",
       " 0.03917007719838862,\n",
       " 0.01103286405070204,\n",
       " 0.08064753063571588,\n",
       " 0.001032231913828386,\n",
       " -0.02298847423510099,\n",
       " -0.08369044542570683,\n",
       " 0.05391103194401426,\n",
       " 0.0003654970760233918,\n",
       " -0.0014450523781998972,\n",
       " 0.035299402219491745,\n",
       " -0.12011802158552681,\n",
       " 0.15283600136696576,\n",
       " -0.02357607172200473,\n",
       " -0.022808014779025155,\n",
       " -0.007492152687154056,\n",
       " 0.006757490917513735,\n",
       " 0.05050312634010931,\n",
       " -0.041581196581196585,\n",
       " -0.00106542981996447,\n",
       " 0.09783603213409861,\n",
       " -0.00991284143923462,\n",
       " 0.05088855671278096,\n",
       " 0.0006142506142506142,\n",
       " 0.13336557355210427,\n",
       " -0.051871216290588884,\n",
       " 0.028601467036957467,\n",
       " -0.03925870048319027,\n",
       " 0.16505980472681825,\n",
       " -0.001994254832270316,\n",
       " 0.043301864227642164,\n",
       " -0.10293776908023483,\n",
       " -0.06852366399371951,\n",
       " -0.09193010944809658,\n",
       " -0.009308510638297872,\n",
       " -0.06393167191453701,\n",
       " -0.028885032037205945,\n",
       " -0.01011666059059424,\n",
       " 0.00011921183943868277,\n",
       " 0.0348044482817583,\n",
       " 0.16847863705050084,\n",
       " 0.08685200749392515,\n",
       " 0.02666842351743976,\n",
       " -0.005972592772253213,\n",
       " -0.010086019906791376,\n",
       " 0.013065362173631166,\n",
       " -0.004177622178741999,\n",
       " 0.10770388223700939,\n",
       " 0.00014341029685931449,\n",
       " 0.019851828475868392,\n",
       " -0.01607604165847082,\n",
       " 0.06912471862276658,\n",
       " -0.033600450489474146,\n",
       " 0.004192229203198927,\n",
       " 0.028523983493991278,\n",
       " 0.005829870198983072,\n",
       " -0.007045643153526973,\n",
       " 0.04821822018233372,\n",
       " -0.0785731122566078,\n",
       " 0.0006648199445983379,\n",
       " 0.012391899676950511,\n",
       " -0.056254157464811216,\n",
       " 0.07855236802997997,\n",
       " -0.07650615283243994,\n",
       " 0.03465454907293774,\n",
       " 0.03685534036473376,\n",
       " 0.0003867304089667873,\n",
       " -0.17888922671531368,\n",
       " 0.0045026693952139665,\n",
       " 0.019455695696434558,\n",
       " 0.03904269866062489,\n",
       " -0.03050634014631518,\n",
       " 0.026487680543755308,\n",
       " 0.057228862099458586,\n",
       " 0.06641281587285906,\n",
       " 0.03072010869565217]"
      ]
     },
     "execution_count": 13,
     "metadata": {},
     "output_type": "execute_result"
    }
   ],
   "source": [
    "l = [x-y for x, y in zip(pred, gold)]\n",
    "l"
   ]
  },
  {
   "cell_type": "code",
   "execution_count": 14,
   "metadata": {},
   "outputs": [],
   "source": [
    "l = np.array(l)"
   ]
  },
  {
   "cell_type": "code",
   "execution_count": 21,
   "metadata": {},
   "outputs": [
    {
     "data": {
      "image/png": "[encoded data removed]",
      "text/plain": [
       "<Figure size 432x288 with 1 Axes>"
      ]
     },
     "metadata": {
      "needs_background": "light"
     },
     "output_type": "display_data"
    }
   ],
   "source": [
    "import matplotlib.pyplot as plt\n",
    " \n",
    "\n",
    "# Plot\n",
    "plt.scatter(list(range(len(l))), l)\n",
    "plt.title('Residuals')\n",
    "plt.xlabel('Doc #')\n",
    "plt.ylabel('Error between GOLD and Pred')\n",
    "plt.show()"
   ]
  },
  {
   "cell_type": "code",
   "execution_count": 16,
   "metadata": {},
   "outputs": [
    {
     "data": {
      "text/plain": [
       "0.003586685938584069"
      ]
     },
     "execution_count": 16,
     "metadata": {},
     "output_type": "execute_result"
    }
   ],
   "source": [
    "np.sum(l**2)/len(l)"
   ]
  },
  {
   "cell_type": "code",
   "execution_count": 17,
   "metadata": {},
   "outputs": [
    {
     "data": {
      "text/plain": [
       "{'788626289': 0.00016233766233766234,\n",
       " '730093263': 0.023432923257176334,\n",
       " '999000858': 0.04205160879260911,\n",
       " '111111114': 0.008230452674897118,\n",
       " '730019938': 0.003971143027334701,\n",
       " '776385494': 0.001214347988541537,\n",
       " '999001323': 0.0023587523587523585,\n",
       " '700387229': 0.05434782608695652,\n",
       " '698719689': 0.010079575596816978,\n",
       " '790666929': 0.0019475920679886685,\n",
       " '699142854': 0.03160944771270524,\n",
       " '738442776': 0.07272216762600028,\n",
       " '761722669': 0.005145091582630171,\n",
       " '999001211': 0.004259462090787392,\n",
       " '788271400': 0.0042255332439234995,\n",
       " '725731328': 0.10812356979405033,\n",
       " '706501640': 0.05921308920919361,\n",
       " '707566605': 0.0893574297188755,\n",
       " '705035735': 0.03981797497155859,\n",
       " '763114850': 0.024430468204053108,\n",
       " '787730392': 0.09885636751308392,\n",
       " '702111021': 0.02654867256637168,\n",
       " '699478811': 0.04857142857142857,\n",
       " '706088110': 0.04643527204502814,\n",
       " '701447437': 0.21634615384615385,\n",
       " '708487008': 0.051051051051051045,\n",
       " '738361208': 0.0355297157622739,\n",
       " '725276027': 0.02880679362335054,\n",
       " '999001256': 0.03685010641532381,\n",
       " '777785889': 0.013534088986635088,\n",
       " '707772906': 0.08580003953918873,\n",
       " '708561738': 0.11039426523297491,\n",
       " '738447109': 0.025268976409041556,\n",
       " '730036755': 0.0,\n",
       " '761955563': 0.02288329519450801,\n",
       " '111111123': 6.582411795681939e-05,\n",
       " '778730964': 0.14403292181069957,\n",
       " '763412406': 0.05359103156914274,\n",
       " '773650987': 0.0844811753902663,\n",
       " '777720051': 0.03024193548387097,\n",
       " '999001259': 0.015869484612532445,\n",
       " '790499380': 0.0003322995126273815,\n",
       " '787085939': 0.013349785533815148,\n",
       " '777869943': 0.04786324786324787,\n",
       " '999000878': 0.0026800071466857246,\n",
       " '788273361': 0.0013833080824715103,\n",
       " '711716996': 0.05240644325487033,\n",
       " '789512681': 0.004859147032805472,\n",
       " '730061195': 0.0,\n",
       " '761568202': 0.0014952153110047847,\n",
       " '703056647': 0.11708860759493671,\n",
       " '794141509': 0.01876243574863207,\n",
       " '707451080': 0.06634272756721736,\n",
       " '763280007': 0.10768638768638768,\n",
       " '111111115': 0.015541165587419057,\n",
       " '727569885': 0.03341962315396367,\n",
       " '708071969': 0.10919999999999999,\n",
       " '783774960': 0.07778836987607245,\n",
       " '779309765': 0.17947483216723792,\n",
       " '111111117': 0.009308510638297872,\n",
       " '706777811': 0.11707632600258733,\n",
       " '778358096': 0.05613636363636363,\n",
       " '778507244': 0.01588628762541806,\n",
       " '999000874': 0.006931316950220542,\n",
       " '999001299': 0.010251503553854565,\n",
       " '772836731': 0.10634954342747929,\n",
       " '781672902': 0.046567225822849154,\n",
       " '999001419': 0.009560229445506692,\n",
       " '738542398': 0.006912442396313364,\n",
       " '698503276': 0.025499516596841767,\n",
       " '761575506': 0.0008958566629339305,\n",
       " '786004130': 0.004193175245806824,\n",
       " '798244842': 0.016087516087516088,\n",
       " '730081389': 0.0,\n",
       " '730246508': 0.004456824512534819,\n",
       " '784143418': 0.04728409534974599,\n",
       " '999001280': 0.03499934409025318,\n",
       " '701299732': 0.049579831932773114,\n",
       " '789753303': 0.0003510311540149188,\n",
       " '718595845': 0.025811209439528023,\n",
       " '787966255': 0.0016156670746634027,\n",
       " '789454337': 0.029045643153526972,\n",
       " '776126299': 0.006347584018074477,\n",
       " '111111111': 0.08140635564570656,\n",
       " '111111121': 0.0,\n",
       " '785331076': 0.0034353419567427356,\n",
       " '740235127': 0.12110676517456179,\n",
       " '794344513': 0.005952380952380952,\n",
       " '738028498': 0.17349785407725324,\n",
       " '784382409': 0.004086371023914558,\n",
       " '111111135': 0.03261251758087201,\n",
       " '999000851': 4.489942528735632e-05,\n",
       " '782149032': 0.1979933110367893,\n",
       " '788847916': 0.015364880273660207,\n",
       " '730269378': 0.0010887316276537834,\n",
       " '111111133': 0.0063335679099225895,\n",
       " '778094905': 0.0308561495002173,\n",
       " '999001290': 0.004369462313387547,\n",
       " '725824328': 0.026509572901325478,\n",
       " '782448403': 0.02159827213822894,\n",
       " '738781754': 0.015217391304347828}"
      ]
     },
     "execution_count": 17,
     "metadata": {},
     "output_type": "execute_result"
    }
   ],
   "source": [
    "gold_dict_measure"
   ]
  },
  {
   "cell_type": "code",
   "execution_count": 18,
   "metadata": {},
   "outputs": [
    {
     "name": "stdout",
     "output_type": "stream",
     "text": [
      "[('111111117', 0.0), ('786004130', 1.555306706482518e-05), ('730081389', 0.00014341029685931449), ('111111114', 0.00025310048089091365), ('778094905', 0.00034980935390212334), ('730036755', 0.0003654970760233918), ('999000851', 0.00043162983425414363), ('730061195', 0.0006142506142506142), ('111111121', 0.0006648199445983379), ('738542398', 0.0009398496240601503), ('730019938', 0.0015240998285387692), ('999000878', 0.0016145773267212547), ('111111111', 0.002833243389098759), ('730093263', 0.0037921880925293893), ('789753303', 0.004543260357213846), ('778507244', 0.00576962703482382), ('708071969', 0.0062622309197651665), ('777869943', 0.006282051282051283), ('999000874', 0.007050528789659225), ('790499380', 0.007089790430141117), ('777720051', 0.007433920704845815), ('787966255', 0.007445537273646475), ('698719689', 0.007822685788787484), ('999001259', 0.008377331925378389), ('783774960', 0.00926470588235294), ('788626289', 0.01194184839044652), ('111111115', 0.013546910755148741), ('761575506', 0.013961218836565096), ('702111021', 0.014094601051122792), ('790666929', 0.014246947082767978), ('777785889', 0.014566320900463474), ('698503276', 0.01541349669005039), ('999001323', 0.015432843019049918), ('785331076', 0.015827241633693246), ('701299732', 0.015979381443298968), ('700387229', 0.016788635385277657), ('699142854', 0.017291435402612926), ('782149032', 0.019104084321475624), ('788847916', 0.019867549668874173), ('730269378', 0.02054442732408834), ('761955563', 0.02143824281630811), ('789454337', 0.022), ('706088110', 0.023466117216117216), ('778730964', 0.02391490022517276), ('730246508', 0.02430865298840321), ('705035735', 0.026242322724734785), ('708561738', 0.026703819807268082), ('707451080', 0.027084027084027084), ('778358096', 0.027251331599157685), ('706501640', 0.02858594841824419), ('699478811', 0.029348295209322403), ('999001290', 0.030857142857142854), ('784143418', 0.03120805369127517), ('111111123', 0.03536522633744856), ('999001419', 0.03622865296294645), ('784382409', 0.038740920096852295), ('708487008', 0.03914417699975687), ('725276027', 0.03983965767405258), ('711716996', 0.04249360181563571), ('999001211', 0.04250295159386069), ('999001299', 0.04505595183561286), ('111111133', 0.045376266570547476), ('707566605', 0.045542635658914726), ('738781754', 0.0459375), ('794141509', 0.04736390278558954), ('787730392', 0.04777365491651206), ('706777811', 0.05314465408805032), ('718595845', 0.0543351929335193), ('776126299', 0.05456580420040819), ('789512681', 0.055747703745586435), ('776385494', 0.059216519890677194), ('773650987', 0.060905103668261566), ('999000858', 0.06186046511627908), ('707772906', 0.06281156530408774), ('787085939', 0.06385291187392446), ('740235127', 0.06485260770975057), ('703056647', 0.06521739130434782), ('738442776', 0.06550802139037433), ('111111135', 0.06946785794560577), ('738361208', 0.07469979296066252), ('727569885', 0.07672148738160584), ('738447109', 0.07918000835305582), ('725824328', 0.08373843500078407), ('794344513', 0.08450474898236093), ('779309765', 0.08754472271914134), ('782448403', 0.088011088011088), ('738028498', 0.0969917012448133), ('788273361', 0.09921934021657013), ('999001280', 0.10412406271301976), ('701447437', 0.11714174150722374), ('999001256', 0.11749763705103969), ('798244842', 0.12379139832452547), ('761722669', 0.12738853503184713), ('781672902', 0.1334192333167743), ('761568202', 0.13486078886310904), ('788271400', 0.14051730139942908), ('763114850', 0.14070779452543725), ('725731328', 0.19006936220605652), ('763412406', 0.2064270329361085), ('763280007', 0.2727461924132059), ('772836731', 0.27482818047798013)]\n"
     ]
    }
   ],
   "source": [
    "print (sorted_prediction)"
   ]
  },
  {
   "cell_type": "code",
   "execution_count": 19,
   "metadata": {},
   "outputs": [
    {
     "name": "stdout",
     "output_type": "stream",
     "text": [
      "[('730036755', 0.0), ('730061195', 0.0), ('730081389', 0.0), ('111111121', 0.0), ('999000851', 4.489942528735632e-05), ('111111123', 6.582411795681939e-05), ('788626289', 0.00016233766233766234), ('790499380', 0.0003322995126273815), ('789753303', 0.0003510311540149188), ('761575506', 0.0008958566629339305), ('730269378', 0.0010887316276537834), ('776385494', 0.001214347988541537), ('788273361', 0.0013833080824715103), ('761568202', 0.0014952153110047847), ('787966255', 0.0016156670746634027), ('790666929', 0.0019475920679886685), ('999001323', 0.0023587523587523585), ('999000878', 0.0026800071466857246), ('785331076', 0.0034353419567427356), ('730019938', 0.003971143027334701), ('784382409', 0.004086371023914558), ('786004130', 0.004193175245806824), ('788271400', 0.0042255332439234995), ('999001211', 0.004259462090787392), ('999001290', 0.004369462313387547), ('730246508', 0.004456824512534819), ('789512681', 0.004859147032805472), ('761722669', 0.005145091582630171), ('794344513', 0.005952380952380952), ('111111133', 0.0063335679099225895), ('776126299', 0.006347584018074477), ('738542398', 0.006912442396313364), ('999000874', 0.006931316950220542), ('111111114', 0.008230452674897118), ('111111117', 0.009308510638297872), ('999001419', 0.009560229445506692), ('698719689', 0.010079575596816978), ('999001299', 0.010251503553854565), ('787085939', 0.013349785533815148), ('777785889', 0.013534088986635088), ('738781754', 0.015217391304347828), ('788847916', 0.015364880273660207), ('111111115', 0.015541165587419057), ('999001259', 0.015869484612532445), ('778507244', 0.01588628762541806), ('798244842', 0.016087516087516088), ('794141509', 0.01876243574863207), ('782448403', 0.02159827213822894), ('761955563', 0.02288329519450801), ('730093263', 0.023432923257176334), ('763114850', 0.024430468204053108), ('738447109', 0.025268976409041556), ('698503276', 0.025499516596841767), ('718595845', 0.025811209439528023), ('725824328', 0.026509572901325478), ('702111021', 0.02654867256637168), ('725276027', 0.02880679362335054), ('789454337', 0.029045643153526972), ('777720051', 0.03024193548387097), ('778094905', 0.0308561495002173), ('699142854', 0.03160944771270524), ('111111135', 0.03261251758087201), ('727569885', 0.03341962315396367), ('999001280', 0.03499934409025318), ('738361208', 0.0355297157622739), ('999001256', 0.03685010641532381), ('705035735', 0.03981797497155859), ('999000858', 0.04205160879260911), ('706088110', 0.04643527204502814), ('781672902', 0.046567225822849154), ('784143418', 0.04728409534974599), ('777869943', 0.04786324786324787), ('699478811', 0.04857142857142857), ('701299732', 0.049579831932773114), ('708487008', 0.051051051051051045), ('711716996', 0.05240644325487033), ('763412406', 0.05359103156914274), ('700387229', 0.05434782608695652), ('778358096', 0.05613636363636363), ('706501640', 0.05921308920919361), ('707451080', 0.06634272756721736), ('738442776', 0.07272216762600028), ('783774960', 0.07778836987607245), ('111111111', 0.08140635564570656), ('773650987', 0.0844811753902663), ('707772906', 0.08580003953918873), ('707566605', 0.0893574297188755), ('787730392', 0.09885636751308392), ('772836731', 0.10634954342747929), ('763280007', 0.10768638768638768), ('725731328', 0.10812356979405033), ('708071969', 0.10919999999999999), ('708561738', 0.11039426523297491), ('706777811', 0.11707632600258733), ('703056647', 0.11708860759493671), ('740235127', 0.12110676517456179), ('778730964', 0.14403292181069957), ('738028498', 0.17349785407725324), ('779309765', 0.17947483216723792), ('782149032', 0.1979933110367893), ('701447437', 0.21634615384615385)]\n"
     ]
    }
   ],
   "source": [
    "print (sorted_gold)"
   ]
  },
  {
   "cell_type": "code",
   "execution_count": null,
   "metadata": {},
   "outputs": [],
   "source": []
  }
 ],
 "metadata": {
  "kernelspec": {
   "display_name": "Python 3",
   "language": "python",
   "name": "python3"
  },
  "language_info": {
   "codemirror_mode": {
    "name": "ipython",
    "version": 3
   },
   "file_extension": ".py",
   "mimetype": "text/x-python",
   "name": "python",
   "nbconvert_exporter": "python",
   "pygments_lexer": "ipython3",
   "version": "3.6.8"
  },
  "varInspector": {
   "cols": {
    "lenName": 16,
    "lenType": 16,
    "lenVar": 40
   },
   "kernels_config": {
    "python": {
     "delete_cmd_postfix": "",
     "delete_cmd_prefix": "del ",
     "library": "var_list.py",
     "varRefreshCmd": "print(var_dic_list())"
    },
    "r": {
     "delete_cmd_postfix": ") ",
     "delete_cmd_prefix": "rm(",
     "library": "var_list.r",
     "varRefreshCmd": "cat(var_dic_list()) "
    }
   },
   "types_to_exclude": [
    "module",
    "function",
    "builtin_function_or_method",
    "instance",
    "_Feature"
   ],
   "window_display": false
  }
 },
 "nbformat": 4,
 "nbformat_minor": 2
}
